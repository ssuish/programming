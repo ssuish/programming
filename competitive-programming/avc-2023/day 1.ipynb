{
 "cells": [
  {
   "cell_type": "markdown",
   "metadata": {},
   "source": [
    "# Advent of Code - 2023\n",
    "\n",
    "## Day 1 - Trebuchet?!\n",
    "\n",
    "As they're making the final adjustments, they discover that their calibration document (your puzzle input) has been amended by a very young Elf who was apparently just excited to show off her art skills. Consequently, the Elves are having trouble reading the values on the document.\n",
    "\n",
    "The newly-improved calibration document consists of lines of text; each line originally contained a specific calibration value that the Elves now need to recover. On each line, the calibration value can be found by combining the first digit and the last digit (in that order) to form a single two-digit number.\n",
    "\n",
    "For example:\n",
    "\n",
    "```\n",
    "1abc2\n",
    "pqr3stu8vwx\n",
    "a1b2c3d4e5f\n",
    "treb7uchet\n",
    "```\n",
    "\n",
    "In this example, the calibration values of these four lines are 12, 38, 15, and 77. Adding these together produces 142.\n",
    "\n",
    "Consider your entire calibration document. What is the sum of all of the calibration values?"
   ]
  },
  {
   "cell_type": "code",
   "execution_count": 1,
   "metadata": {
    "dotnet_interactive": {
     "language": "csharp"
    },
    "polyglot_notebook": {
     "kernelName": "csharp"
    }
   },
   "outputs": [],
   "source": [
    "// Sample Puzzle Input or Edge Cases\n",
    "\n",
    "List<string> sampleInput = new List<string> {\n",
    "    \"eightwo\",\n",
    "    \"nineight\",\n",
    "    \"sevenine\"\n",
    "};"
   ]
  },
  {
   "cell_type": "code",
   "execution_count": 28,
   "metadata": {
    "dotnet_interactive": {
     "language": "csharp"
    },
    "polyglot_notebook": {
     "kernelName": "csharp"
    }
   },
   "outputs": [],
   "source": [
    "using System;\n",
    "using System.Text.RegularExpressions;\n",
    "\n",
    "int getCalibrationValues(string value)\n",
    "{\n",
    "    Dictionary<string, int> wordToNumber = new Dictionary<string, int>\n",
    "    {\n",
    "        { \"one\", 1 },\n",
    "        { \"two\", 2 },\n",
    "        { \"three\", 3 },\n",
    "        { \"four\", 4 },\n",
    "        { \"five\", 5 },\n",
    "        { \"six\", 6 },\n",
    "        { \"seven\", 7 },\n",
    "        { \"eight\", 8 },\n",
    "        { \"nine\", 9 }\n",
    "    };\n",
    "    \n",
    "    string pattern1 = @\"(one|two|three|four|five|six|seven|eight|nine)\";\n",
    "    string pattern2 = @\"(one|two|three|four|five|six|seven|eight|nine|\\d)\";\n",
    "\n",
    "    // Indexing first match\n",
    "    MatchCollection firstMatches = Regex.Matches(value, pattern1);\n",
    "    string firstIndex = \"\";\n",
    "    if (firstMatches.Count > 0)\n",
    "    {\n",
    "        firstIndex = firstMatches[0].Value;\n",
    "        StringBuilder sbfirstIndex = new StringBuilder(firstIndex);\n",
    "        sbfirstIndex[sbfirstIndex.Length / 2] = wordToNumber[firstIndex].ToString().ToCharArray()[0];\n",
    "        string indexedFirstIndex = sbfirstIndex.ToString();\n",
    "        value = Regex.Replace(value, pattern1, indexedFirstIndex);\n",
    "    }\n",
    "    \n",
    "    // Indexing last match\n",
    "    MatchCollection lastMatches = Regex.Matches(value, pattern1);\n",
    "    string lastIndex = \"\";\n",
    "    if (lastMatches.Count > 0)\n",
    "    {\n",
    "        lastIndex = lastMatches[lastMatches.Count - 1].Value;\n",
    "        StringBuilder sblastIndex = new StringBuilder(lastIndex);\n",
    "        sblastIndex[sblastIndex.Length / 2] = wordToNumber[lastIndex].ToString().ToCharArray()[0];\n",
    "        string indexedLastIndex = sblastIndex.ToString();\n",
    "        value = Regex.Replace(value, pattern1, indexedLastIndex);\n",
    "    }\n",
    "\n",
    "    Console.Writeline(value);\n",
    "\n",
    "    // Indexing indexed matches\n",
    "    MatchCollection matches = Regex.Matches(value, pattern2);\n",
    "\n",
    "    if (matches.Count > 0)\n",
    "    {\n",
    "        int firstDigit = 0;\n",
    "        int lastDigit = 0;\n",
    "\n",
    "        bool isFirstDigitParsed = int.TryParse(firstIndex, out firstDigit);\n",
    "        bool isLastDigitParsed = int.TryParse(lastIndex, out lastDigit);\n",
    "        \n",
    "        if (isFirstDigitParsed && isLastDigitParsed)\n",
    "        {\n",
    "            return firstDigit * 10 + lastDigit;\n",
    "        }\n",
    "        else\n",
    "        {\n",
    "            int firstValue = wordToNumber.ContainsKey(matches[0].Value) ? wordToNumber[matches[0].Value] : int.Parse(matches[0].Value);\n",
    "            int lastValue = wordToNumber.ContainsKey(matches[matches.Count - 1].Value) ? wordToNumber[matches[matches.Count - 1].Value] : int.Parse(matches[matches.Count - 1].Value);\n",
    "            return firstValue * 10 + lastValue;\n",
    "        }\n",
    "    }\n",
    "    else\n",
    "    {\n",
    "        return 0;\n",
    "    }\n",
    "}"
   ]
  },
  {
   "cell_type": "code",
   "execution_count": 29,
   "metadata": {
    "dotnet_interactive": {
     "language": "csharp"
    },
    "polyglot_notebook": {
     "kernelName": "csharp"
    }
   },
   "outputs": [
    {
     "name": "stdout",
     "output_type": "stream",
     "text": [
      "259\r\n"
     ]
    }
   ],
   "source": [
    "// Testing from sample puzzle input\n",
    "List<int> calibrationValues = new List<int>();\n",
    "\n",
    "for (int i = 0; i < sampleInput.Count(); i++)\n",
    "{\n",
    "    calibrationValues.Add(getCalibrationValues(sampleInput[i]));\n",
    "}\n",
    "\n",
    "Console.WriteLine(calibrationValues.Sum());"
   ]
  },
  {
   "cell_type": "code",
   "execution_count": 31,
   "metadata": {
    "dotnet_interactive": {
     "language": "csharp"
    },
    "polyglot_notebook": {
     "kernelName": "csharp"
    }
   },
   "outputs": [
    {
     "name": "stdout",
     "output_type": "stream",
     "text": [
      "54035\r\n"
     ]
    }
   ],
   "source": [
    "using System.IO;\n",
    "\n",
    "// Result from this code block are the answer to the puzzle\n",
    "\n",
    "string path = @\"./puzzle-input/day-1.txt\";\n",
    "List<int> realCalibrationValues = new List<int>();\n",
    "\n",
    "try\n",
    "{\n",
    "    using (StreamReader sr = new StreamReader(path))\n",
    "    {\n",
    "        string line;\n",
    "        while ((line = sr.ReadLine()) != null)\n",
    "        {\n",
    "            realCalibrationValues.Add(getCalibrationValues(line));\n",
    "        }\n",
    "    }\n",
    "}\n",
    "catch (Exception e)\n",
    "{\n",
    "    Console.WriteLine(\"The file could not be read:\");\n",
    "    Console.WriteLine(e.Message);\n",
    "}\n",
    "\n",
    "Console.WriteLine(realCalibrationValues.Sum());\n"
   ]
  }
 ],
 "metadata": {
  "kernelspec": {
   "display_name": ".NET (C#)",
   "language": "C#",
   "name": ".net-csharp"
  },
  "language_info": {
   "name": "polyglot-notebook"
  },
  "polyglot_notebook": {
   "kernelInfo": {
    "defaultKernelName": "csharp",
    "items": [
     {
      "aliases": [],
      "name": "csharp"
     }
    ]
   }
  }
 },
 "nbformat": 4,
 "nbformat_minor": 2
}
